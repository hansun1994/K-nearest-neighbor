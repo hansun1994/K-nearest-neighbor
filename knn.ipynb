{
 "cells": [
  {
   "cell_type": "code",
   "execution_count": 9,
   "metadata": {
    "collapsed": true
   },
   "outputs": [],
   "source": [
    "from numpy import *\n",
    "import operator\n",
    "\n",
    "def createDataSet():\n",
    "    group = array([[1.0,1.1],[1.0,1.0],[0,0],[0,0.1]])\n",
    "    labels = ['A','A','B','B']\n",
    "    return group,labels\n",
    "\n",
    "def classify0(inX,dataSet,labels,k):\n",
    "    dataSetSize = dataSet.shape[0]\n",
    "    diffMat = tile(inX,(dataSetSize,1)) - dataSet\n",
    "    sqDiffMat = diffMat ** 2\n",
    "    sqDistances = sqDiffMat.sum(axis=1)\n",
    "    distances = sqDistances ** 0.5\n",
    "    sortedDistIndicies = distances.argsort()\n",
    "    classCount = {}\n",
    "    for i in range(k):\n",
    "        voteLabel = labels[sortedDistIndicies[i]]\n",
    "        classCount[voteLabel] = classCount.get(voteLabel,0) + 1\n",
    "    sortedClassCount = sorted(classCount.items(), key = lambda d:d[1],reverse = True)\n",
    "    return sortedClassCount[0][0]\n"
   ]
  },
  {
   "cell_type": "code",
   "execution_count": 10,
   "metadata": {},
   "outputs": [
    {
     "name": "stdout",
     "output_type": "stream",
     "text": [
      "input is : [ 1.2  1.1] output class is : A\n",
      "input is : [ 0.1  0.3] output class is : B\n"
     ]
    }
   ],
   "source": [
    "dataSet,labels = createDataSet()\n",
    "testX = array([1.2,1.1])\n",
    "k = 3\n",
    "outputLabelX = classify0(testX,dataSet,labels,k)\n",
    "testY = array([0.1,0.3])\n",
    "outputLabelY = classify0(testY,dataSet,labels,k)\n",
    "\n",
    "print('input is :',testX,'output class is :',outputLabelX)\n",
    "print('input is :',testY,'output class is :',outputLabelY)"
   ]
  },
  {
   "cell_type": "code",
   "execution_count": null,
   "metadata": {
    "collapsed": true
   },
   "outputs": [],
   "source": []
  }
 ],
 "metadata": {
  "kernelspec": {
   "display_name": "Python 3",
   "language": "python",
   "name": "python3"
  },
  "language_info": {
   "codemirror_mode": {
    "name": "ipython",
    "version": 3
   },
   "file_extension": ".py",
   "mimetype": "text/x-python",
   "name": "python",
   "nbconvert_exporter": "python",
   "pygments_lexer": "ipython3",
   "version": "3.6.1"
  }
 },
 "nbformat": 4,
 "nbformat_minor": 2
}
